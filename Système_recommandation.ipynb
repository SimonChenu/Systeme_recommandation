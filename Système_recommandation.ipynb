{
 "cells": [
  {
   "cell_type": "markdown",
   "id": "8e48f16d",
   "metadata": {},
   "source": [
    "# Juillet 2021"
   ]
  },
  {
   "cell_type": "markdown",
   "id": "d15e3da5",
   "metadata": {},
   "source": [
    "## Pre-processing commun"
   ]
  },
  {
   "cell_type": "code",
   "execution_count": null,
   "id": "49487fe0",
   "metadata": {},
   "outputs": [],
   "source": [
    "require(tidyverse)\n",
    "require(caret)\n",
    "require(data.table)\n",
    "require(xgboost)\n",
    "require(stringr)\n",
    "require(psych)\n",
    "require(lubridate)\n",
    "require(data.table) ;"
   ]
  },
  {
   "cell_type": "code",
   "execution_count": 1,
   "id": "e2b865eb",
   "metadata": {},
   "outputs": [],
   "source": [
    "dl <- tempfile()\n",
    "download.file(\"http://files.grouplens.org/datasets/movielens/ml-10m.zip\", dl)"
   ]
  },
  {
   "cell_type": "code",
   "execution_count": 2,
   "id": "4cd318ae",
   "metadata": {},
   "outputs": [],
   "source": [
    "ratings <- fread(text = gsub(\"::\", \"\\t\", readLines(unzip(dl, \"ml-10M100K/ratings.dat\"))),\n",
    "                 col.names = c(\"userId\", \"movieId\", \"rating\", \"timestamp\"))\n",
    "\n",
    "movies <- str_split_fixed(readLines(unzip(dl, \"ml-10M100K/movies.dat\")), \"\\\\::\", 3)\n",
    "\n",
    "colnames(movies) <- c(\"movieId\", \"title\", \"genres\")"
   ]
  },
  {
   "cell_type": "code",
   "execution_count": 3,
   "id": "e552db7c",
   "metadata": {},
   "outputs": [],
   "source": [
    "# Pour R 4.0 ou plus récent:\n",
    "movies <- as.data.frame(movies) %>% mutate(movieId = as.numeric(movieId),\n",
    "                                           title = as.character(title),\n",
    "                                           genres = as.character(genres))\n",
    "\n",
    "\n",
    "movielens <- left_join(ratings, movies, by = \"movieId\")"
   ]
  },
  {
   "cell_type": "code",
   "execution_count": 4,
   "id": "e269cf44",
   "metadata": {},
   "outputs": [
    {
     "name": "stderr",
     "output_type": "stream",
     "text": [
      "Warning message in set.seed(1, sample.kind = \"Rounding\"):\n",
      "\"non-uniform 'Rounding' sampler used\"\n"
     ]
    }
   ],
   "source": [
    "# Le set de validation comporte 10% du dataset, avec seed fixe obligatoire.\n",
    "set.seed(1, sample.kind=\"Rounding\") \n",
    "test_index <- createDataPartition (y = movielens$rating, times = 1, p = 0.1, list = FALSE)\n",
    "edx <- movielens[-test_index,]\n",
    "temp <- movielens[test_index,] ;"
   ]
  },
  {
   "cell_type": "code",
   "execution_count": 5,
   "id": "ffc6ddc1",
   "metadata": {},
   "outputs": [
    {
     "name": "stderr",
     "output_type": "stream",
     "text": [
      "Joining, by = c(\"userId\", \"movieId\", \"rating\", \"timestamp\", \"title\", \"genres\")\n",
      "\n"
     ]
    }
   ],
   "source": [
    "#Il faut s'assurer que les ID des films et des utilisateurs du set de validation soient dans le set de training.\n",
    "\n",
    "validation <- temp %>% \n",
    "  semi_join(edx, by = \"movieId\") %>%\n",
    "  semi_join(edx, by = \"userId\")\n",
    "\n",
    "removed <- anti_join(temp, validation)\n",
    "edx <- rbind(edx, removed)"
   ]
  },
  {
   "cell_type": "code",
   "execution_count": 6,
   "id": "2d58b746",
   "metadata": {},
   "outputs": [],
   "source": [
    "#Suppression des objets devenus inutiles\n",
    "rm(dl, ratings, movies, test_index, temp, movielens, removed) ;"
   ]
  },
  {
   "cell_type": "markdown",
   "id": "fe4ed42d",
   "metadata": {},
   "source": [
    "# Partie 2 : Data Visualisation"
   ]
  },
  {
   "cell_type": "code",
   "execution_count": 7,
   "id": "3889e0b7",
   "metadata": {},
   "outputs": [
    {
     "data": {
      "text/html": [
       "<table class=\"dataframe\">\n",
       "<caption>A data.table: 9000055 × 6</caption>\n",
       "<thead>\n",
       "\t<tr><th scope=col>userId</th><th scope=col>movieId</th><th scope=col>rating</th><th scope=col>timestamp</th><th scope=col>title</th><th scope=col>genres</th></tr>\n",
       "\t<tr><th scope=col>&lt;int&gt;</th><th scope=col>&lt;dbl&gt;</th><th scope=col>&lt;dbl&gt;</th><th scope=col>&lt;int&gt;</th><th scope=col>&lt;chr&gt;</th><th scope=col>&lt;chr&gt;</th></tr>\n",
       "</thead>\n",
       "<tbody>\n",
       "\t<tr><td>1</td><td>122</td><td>5</td><td>838985046</td><td>Boomerang (1992)                                            </td><td>Comedy|Romance                             </td></tr>\n",
       "\t<tr><td>1</td><td>185</td><td>5</td><td>838983525</td><td>Net, The (1995)                                             </td><td>Action|Crime|Thriller                      </td></tr>\n",
       "\t<tr><td>1</td><td>292</td><td>5</td><td>838983421</td><td>Outbreak (1995)                                             </td><td>Action|Drama|Sci-Fi|Thriller               </td></tr>\n",
       "\t<tr><td>1</td><td>316</td><td>5</td><td>838983392</td><td>Stargate (1994)                                             </td><td>Action|Adventure|Sci-Fi                    </td></tr>\n",
       "\t<tr><td>1</td><td>329</td><td>5</td><td>838983392</td><td>Star Trek: Generations (1994)                               </td><td>Action|Adventure|Drama|Sci-Fi              </td></tr>\n",
       "\t<tr><td>1</td><td>355</td><td>5</td><td>838984474</td><td>Flintstones, The (1994)                                     </td><td>Children|Comedy|Fantasy                    </td></tr>\n",
       "\t<tr><td>1</td><td>356</td><td>5</td><td>838983653</td><td>Forrest Gump (1994)                                         </td><td>Comedy|Drama|Romance|War                   </td></tr>\n",
       "\t<tr><td>1</td><td>362</td><td>5</td><td>838984885</td><td>Jungle Book, The (1994)                                     </td><td>Adventure|Children|Romance                 </td></tr>\n",
       "\t<tr><td>1</td><td>364</td><td>5</td><td>838983707</td><td>Lion King, The (1994)                                       </td><td>Adventure|Animation|Children|Drama|Musical </td></tr>\n",
       "\t<tr><td>1</td><td>370</td><td>5</td><td>838984596</td><td>Naked Gun 33 1/3: The Final Insult (1994)                   </td><td>Action|Comedy                              </td></tr>\n",
       "\t<tr><td>1</td><td>377</td><td>5</td><td>838983834</td><td>Speed (1994)                                                </td><td>Action|Romance|Thriller                    </td></tr>\n",
       "\t<tr><td>1</td><td>420</td><td>5</td><td>838983834</td><td>Beverly Hills Cop III (1994)                                </td><td>Action|Comedy|Crime|Thriller               </td></tr>\n",
       "\t<tr><td>1</td><td>466</td><td>5</td><td>838984679</td><td>Hot Shots! Part Deux (1993)                                 </td><td>Action|Comedy|War                          </td></tr>\n",
       "\t<tr><td>1</td><td>520</td><td>5</td><td>838984679</td><td>Robin Hood: Men in Tights (1993)                            </td><td>Comedy                                     </td></tr>\n",
       "\t<tr><td>1</td><td>539</td><td>5</td><td>838984068</td><td>Sleepless in Seattle (1993)                                 </td><td>Comedy|Drama|Romance                       </td></tr>\n",
       "\t<tr><td>1</td><td>588</td><td>5</td><td>838983339</td><td>Aladdin (1992)                                              </td><td>Adventure|Animation|Children|Comedy|Musical</td></tr>\n",
       "\t<tr><td>1</td><td>589</td><td>5</td><td>838983778</td><td>Terminator 2: Judgment Day (1991)                           </td><td>Action|Sci-Fi                              </td></tr>\n",
       "\t<tr><td>1</td><td>594</td><td>5</td><td>838984679</td><td>Snow White and the Seven Dwarfs (1937)                      </td><td>Animation|Children|Drama|Fantasy|Musical   </td></tr>\n",
       "\t<tr><td>1</td><td>616</td><td>5</td><td>838984941</td><td>Aristocats, The (1970)                                      </td><td>Animation|Children                         </td></tr>\n",
       "\t<tr><td>2</td><td>110</td><td>5</td><td>868245777</td><td>Braveheart (1995)                                           </td><td>Action|Drama|War                           </td></tr>\n",
       "\t<tr><td>2</td><td>260</td><td>5</td><td>868244562</td><td>Star Wars: Episode IV - A New Hope (a.k.a. Star Wars) (1977)</td><td>Action|Adventure|Sci-Fi                    </td></tr>\n",
       "\t<tr><td>2</td><td>376</td><td>3</td><td>868245920</td><td>River Wild, The (1994)                                      </td><td>Action|Thriller                            </td></tr>\n",
       "\t<tr><td>2</td><td>539</td><td>3</td><td>868246262</td><td>Sleepless in Seattle (1993)                                 </td><td>Comedy|Drama|Romance                       </td></tr>\n",
       "\t<tr><td>2</td><td>590</td><td>5</td><td>868245608</td><td>Dances with Wolves (1990)                                   </td><td>Adventure|Drama|Western                    </td></tr>\n",
       "\t<tr><td>2</td><td>648</td><td>2</td><td>868244699</td><td>Mission: Impossible (1996)                                  </td><td>Action|Adventure|Mystery|Thriller          </td></tr>\n",
       "\t<tr><td>2</td><td>719</td><td>3</td><td>868246191</td><td>Multiplicity (1996)                                         </td><td>Comedy                                     </td></tr>\n",
       "\t<tr><td>2</td><td>733</td><td>3</td><td>868244562</td><td>Rock, The (1996)                                            </td><td>Action|Adventure|Thriller                  </td></tr>\n",
       "\t<tr><td>2</td><td>736</td><td>3</td><td>868244698</td><td>Twister (1996)                                              </td><td>Action|Adventure|Romance|Thriller          </td></tr>\n",
       "\t<tr><td>2</td><td>780</td><td>3</td><td>868244698</td><td>Independence Day (a.k.a. ID4) (1996)                        </td><td>Action|Adventure|Sci-Fi|War                </td></tr>\n",
       "\t<tr><td>2</td><td>786</td><td>3</td><td>868244562</td><td>Eraser (1996)                                               </td><td>Action|Drama|Thriller                      </td></tr>\n",
       "\t<tr><td>...</td><td>...</td><td>...</td><td>...</td><td>...</td><td>...</td></tr>\n",
       "\t<tr><td>71567</td><td> 1721</td><td>4.0</td><td> 912649271</td><td>Titanic (1997)                                  </td><td>Drama|Romance                              </td></tr>\n",
       "\t<tr><td>71567</td><td> 1748</td><td>3.0</td><td> 912580647</td><td>Dark City (1998)                                </td><td>Adventure|Fantasy|Film-Noir|Sci-Fi|Thriller</td></tr>\n",
       "\t<tr><td>71567</td><td> 1769</td><td>3.0</td><td> 912649037</td><td>Replacement Killers, The (1998)                 </td><td>Action|Crime|Thriller                      </td></tr>\n",
       "\t<tr><td>71567</td><td> 1792</td><td>2.0</td><td> 912649171</td><td>U.S. Marshals (1998)                            </td><td>Action|Crime|Thriller                      </td></tr>\n",
       "\t<tr><td>71567</td><td> 1805</td><td>4.0</td><td> 912649010</td><td>Wild Things (1998)                              </td><td>Crime|Drama|Mystery|Thriller               </td></tr>\n",
       "\t<tr><td>71567</td><td> 1833</td><td>3.0</td><td> 912649171</td><td>Mercury Rising (1998)                           </td><td>Action|Drama|Thriller                      </td></tr>\n",
       "\t<tr><td>71567</td><td> 1876</td><td>3.0</td><td> 912580722</td><td>Deep Impact (1998)                              </td><td>Drama|Sci-Fi|Thriller                      </td></tr>\n",
       "\t<tr><td>71567</td><td> 1909</td><td>2.0</td><td> 912580688</td><td>X-Files: Fight the Future, The (1998)           </td><td>Action|Crime|Mystery|Sci-Fi|Thriller       </td></tr>\n",
       "\t<tr><td>71567</td><td> 1917</td><td>4.0</td><td> 912580787</td><td>Armageddon (1998)                               </td><td>Action|Romance|Sci-Fi|Thriller             </td></tr>\n",
       "\t<tr><td>71567</td><td> 1920</td><td>4.0</td><td> 912578247</td><td>Small Soldiers (1998)                           </td><td>Animation|Children|Fantasy|War             </td></tr>\n",
       "\t<tr><td>71567</td><td> 1982</td><td>1.0</td><td> 912580553</td><td>Halloween (1978)                                </td><td>Horror                                     </td></tr>\n",
       "\t<tr><td>71567</td><td> 1983</td><td>1.0</td><td> 912580553</td><td>Halloween II (1981)                             </td><td>Horror                                     </td></tr>\n",
       "\t<tr><td>71567</td><td> 1984</td><td>1.0</td><td> 912580553</td><td>Halloween III: Season of the Witch (1982)       </td><td>Horror                                     </td></tr>\n",
       "\t<tr><td>71567</td><td> 1985</td><td>1.0</td><td> 912580553</td><td>Halloween 4: The Return of Michael Myers (1988) </td><td>Horror                                     </td></tr>\n",
       "\t<tr><td>71567</td><td> 1986</td><td>1.0</td><td> 912580553</td><td>Halloween 5: The Revenge of Michael Myers (1989)</td><td>Horror                                     </td></tr>\n",
       "\t<tr><td>71567</td><td> 2012</td><td>3.0</td><td> 912580722</td><td>Back to the Future Part III (1990)              </td><td>Comedy|Sci-Fi|Western                      </td></tr>\n",
       "\t<tr><td>71567</td><td> 2028</td><td>5.0</td><td> 912580344</td><td>Saving Private Ryan (1998)                      </td><td>Action|Drama|War                           </td></tr>\n",
       "\t<tr><td>71567</td><td> 2107</td><td>1.0</td><td> 912580553</td><td>Halloween H20: 20 Years Later (1998)            </td><td>Horror|Thriller                            </td></tr>\n",
       "\t<tr><td>71567</td><td> 2126</td><td>2.0</td><td> 912649143</td><td>Snake Eyes (1998)                               </td><td>Action|Crime|Mystery|Thriller              </td></tr>\n",
       "\t<tr><td>71567</td><td> 2294</td><td>5.0</td><td> 912577968</td><td>Antz (1998)                                     </td><td>Adventure|Animation|Children|Comedy|Fantasy</td></tr>\n",
       "\t<tr><td>71567</td><td> 2338</td><td>2.0</td><td> 912578016</td><td>I Still Know What You Did Last Summer (1998)    </td><td>Horror|Mystery|Thriller                    </td></tr>\n",
       "\t<tr><td>71567</td><td> 2384</td><td>2.0</td><td> 912578173</td><td>Babe: Pig in the City (1998)                    </td><td>Children|Comedy                            </td></tr>\n",
       "\t<tr><td>16929</td><td>39412</td><td>3.0</td><td>1221160134</td><td>Living 'til the End (2005)                      </td><td>Drama                                      </td></tr>\n",
       "\t<tr><td>20306</td><td>63826</td><td>4.0</td><td>1228431590</td><td>Splinter (2008)                                 </td><td>Action|Horror|Thriller                     </td></tr>\n",
       "\t<tr><td>30445</td><td> 8394</td><td>0.5</td><td>1200074027</td><td>Hi-Line, The (1999)                             </td><td>Drama                                      </td></tr>\n",
       "\t<tr><td>32620</td><td>33140</td><td>3.5</td><td>1173562747</td><td>Down and Derby (2005)                           </td><td>Children|Comedy                            </td></tr>\n",
       "\t<tr><td>40976</td><td>61913</td><td>3.0</td><td>1227767528</td><td>Africa addio (1966)                             </td><td>Documentary                                </td></tr>\n",
       "\t<tr><td>59269</td><td>63141</td><td>2.0</td><td>1226443318</td><td>Rockin' in the Rockies (1945)                   </td><td>Comedy|Musical|Western                     </td></tr>\n",
       "\t<tr><td>60713</td><td> 4820</td><td>2.0</td><td>1119156754</td><td>Won't Anybody Listen? (2000)                    </td><td>Documentary                                </td></tr>\n",
       "\t<tr><td>64621</td><td>39429</td><td>2.5</td><td>1201248182</td><td>Confess (2005)                                  </td><td>Drama|Thriller                             </td></tr>\n",
       "</tbody>\n",
       "</table>\n"
      ],
      "text/latex": [
       "A data.table: 9000055 × 6\n",
       "\\begin{tabular}{llllll}\n",
       " userId & movieId & rating & timestamp & title & genres\\\\\n",
       " <int> & <dbl> & <dbl> & <int> & <chr> & <chr>\\\\\n",
       "\\hline\n",
       "\t 1 & 122 & 5 & 838985046 & Boomerang (1992)                                             & Comedy\\textbar{}Romance                             \\\\\n",
       "\t 1 & 185 & 5 & 838983525 & Net, The (1995)                                              & Action\\textbar{}Crime\\textbar{}Thriller                      \\\\\n",
       "\t 1 & 292 & 5 & 838983421 & Outbreak (1995)                                              & Action\\textbar{}Drama\\textbar{}Sci-Fi\\textbar{}Thriller               \\\\\n",
       "\t 1 & 316 & 5 & 838983392 & Stargate (1994)                                              & Action\\textbar{}Adventure\\textbar{}Sci-Fi                    \\\\\n",
       "\t 1 & 329 & 5 & 838983392 & Star Trek: Generations (1994)                                & Action\\textbar{}Adventure\\textbar{}Drama\\textbar{}Sci-Fi              \\\\\n",
       "\t 1 & 355 & 5 & 838984474 & Flintstones, The (1994)                                      & Children\\textbar{}Comedy\\textbar{}Fantasy                    \\\\\n",
       "\t 1 & 356 & 5 & 838983653 & Forrest Gump (1994)                                          & Comedy\\textbar{}Drama\\textbar{}Romance\\textbar{}War                   \\\\\n",
       "\t 1 & 362 & 5 & 838984885 & Jungle Book, The (1994)                                      & Adventure\\textbar{}Children\\textbar{}Romance                 \\\\\n",
       "\t 1 & 364 & 5 & 838983707 & Lion King, The (1994)                                        & Adventure\\textbar{}Animation\\textbar{}Children\\textbar{}Drama\\textbar{}Musical \\\\\n",
       "\t 1 & 370 & 5 & 838984596 & Naked Gun 33 1/3: The Final Insult (1994)                    & Action\\textbar{}Comedy                              \\\\\n",
       "\t 1 & 377 & 5 & 838983834 & Speed (1994)                                                 & Action\\textbar{}Romance\\textbar{}Thriller                    \\\\\n",
       "\t 1 & 420 & 5 & 838983834 & Beverly Hills Cop III (1994)                                 & Action\\textbar{}Comedy\\textbar{}Crime\\textbar{}Thriller               \\\\\n",
       "\t 1 & 466 & 5 & 838984679 & Hot Shots! Part Deux (1993)                                  & Action\\textbar{}Comedy\\textbar{}War                          \\\\\n",
       "\t 1 & 520 & 5 & 838984679 & Robin Hood: Men in Tights (1993)                             & Comedy                                     \\\\\n",
       "\t 1 & 539 & 5 & 838984068 & Sleepless in Seattle (1993)                                  & Comedy\\textbar{}Drama\\textbar{}Romance                       \\\\\n",
       "\t 1 & 588 & 5 & 838983339 & Aladdin (1992)                                               & Adventure\\textbar{}Animation\\textbar{}Children\\textbar{}Comedy\\textbar{}Musical\\\\\n",
       "\t 1 & 589 & 5 & 838983778 & Terminator 2: Judgment Day (1991)                            & Action\\textbar{}Sci-Fi                              \\\\\n",
       "\t 1 & 594 & 5 & 838984679 & Snow White and the Seven Dwarfs (1937)                       & Animation\\textbar{}Children\\textbar{}Drama\\textbar{}Fantasy\\textbar{}Musical   \\\\\n",
       "\t 1 & 616 & 5 & 838984941 & Aristocats, The (1970)                                       & Animation\\textbar{}Children                         \\\\\n",
       "\t 2 & 110 & 5 & 868245777 & Braveheart (1995)                                            & Action\\textbar{}Drama\\textbar{}War                           \\\\\n",
       "\t 2 & 260 & 5 & 868244562 & Star Wars: Episode IV - A New Hope (a.k.a. Star Wars) (1977) & Action\\textbar{}Adventure\\textbar{}Sci-Fi                    \\\\\n",
       "\t 2 & 376 & 3 & 868245920 & River Wild, The (1994)                                       & Action\\textbar{}Thriller                            \\\\\n",
       "\t 2 & 539 & 3 & 868246262 & Sleepless in Seattle (1993)                                  & Comedy\\textbar{}Drama\\textbar{}Romance                       \\\\\n",
       "\t 2 & 590 & 5 & 868245608 & Dances with Wolves (1990)                                    & Adventure\\textbar{}Drama\\textbar{}Western                    \\\\\n",
       "\t 2 & 648 & 2 & 868244699 & Mission: Impossible (1996)                                   & Action\\textbar{}Adventure\\textbar{}Mystery\\textbar{}Thriller          \\\\\n",
       "\t 2 & 719 & 3 & 868246191 & Multiplicity (1996)                                          & Comedy                                     \\\\\n",
       "\t 2 & 733 & 3 & 868244562 & Rock, The (1996)                                             & Action\\textbar{}Adventure\\textbar{}Thriller                  \\\\\n",
       "\t 2 & 736 & 3 & 868244698 & Twister (1996)                                               & Action\\textbar{}Adventure\\textbar{}Romance\\textbar{}Thriller          \\\\\n",
       "\t 2 & 780 & 3 & 868244698 & Independence Day (a.k.a. ID4) (1996)                         & Action\\textbar{}Adventure\\textbar{}Sci-Fi\\textbar{}War                \\\\\n",
       "\t 2 & 786 & 3 & 868244562 & Eraser (1996)                                                & Action\\textbar{}Drama\\textbar{}Thriller                      \\\\\n",
       "\t ... & ... & ... & ... & ... & ...\\\\\n",
       "\t 71567 &  1721 & 4.0 &  912649271 & Titanic (1997)                                   & Drama\\textbar{}Romance                              \\\\\n",
       "\t 71567 &  1748 & 3.0 &  912580647 & Dark City (1998)                                 & Adventure\\textbar{}Fantasy\\textbar{}Film-Noir\\textbar{}Sci-Fi\\textbar{}Thriller\\\\\n",
       "\t 71567 &  1769 & 3.0 &  912649037 & Replacement Killers, The (1998)                  & Action\\textbar{}Crime\\textbar{}Thriller                      \\\\\n",
       "\t 71567 &  1792 & 2.0 &  912649171 & U.S. Marshals (1998)                             & Action\\textbar{}Crime\\textbar{}Thriller                      \\\\\n",
       "\t 71567 &  1805 & 4.0 &  912649010 & Wild Things (1998)                               & Crime\\textbar{}Drama\\textbar{}Mystery\\textbar{}Thriller               \\\\\n",
       "\t 71567 &  1833 & 3.0 &  912649171 & Mercury Rising (1998)                            & Action\\textbar{}Drama\\textbar{}Thriller                      \\\\\n",
       "\t 71567 &  1876 & 3.0 &  912580722 & Deep Impact (1998)                               & Drama\\textbar{}Sci-Fi\\textbar{}Thriller                      \\\\\n",
       "\t 71567 &  1909 & 2.0 &  912580688 & X-Files: Fight the Future, The (1998)            & Action\\textbar{}Crime\\textbar{}Mystery\\textbar{}Sci-Fi\\textbar{}Thriller       \\\\\n",
       "\t 71567 &  1917 & 4.0 &  912580787 & Armageddon (1998)                                & Action\\textbar{}Romance\\textbar{}Sci-Fi\\textbar{}Thriller             \\\\\n",
       "\t 71567 &  1920 & 4.0 &  912578247 & Small Soldiers (1998)                            & Animation\\textbar{}Children\\textbar{}Fantasy\\textbar{}War             \\\\\n",
       "\t 71567 &  1982 & 1.0 &  912580553 & Halloween (1978)                                 & Horror                                     \\\\\n",
       "\t 71567 &  1983 & 1.0 &  912580553 & Halloween II (1981)                              & Horror                                     \\\\\n",
       "\t 71567 &  1984 & 1.0 &  912580553 & Halloween III: Season of the Witch (1982)        & Horror                                     \\\\\n",
       "\t 71567 &  1985 & 1.0 &  912580553 & Halloween 4: The Return of Michael Myers (1988)  & Horror                                     \\\\\n",
       "\t 71567 &  1986 & 1.0 &  912580553 & Halloween 5: The Revenge of Michael Myers (1989) & Horror                                     \\\\\n",
       "\t 71567 &  2012 & 3.0 &  912580722 & Back to the Future Part III (1990)               & Comedy\\textbar{}Sci-Fi\\textbar{}Western                      \\\\\n",
       "\t 71567 &  2028 & 5.0 &  912580344 & Saving Private Ryan (1998)                       & Action\\textbar{}Drama\\textbar{}War                           \\\\\n",
       "\t 71567 &  2107 & 1.0 &  912580553 & Halloween H20: 20 Years Later (1998)             & Horror\\textbar{}Thriller                            \\\\\n",
       "\t 71567 &  2126 & 2.0 &  912649143 & Snake Eyes (1998)                                & Action\\textbar{}Crime\\textbar{}Mystery\\textbar{}Thriller              \\\\\n",
       "\t 71567 &  2294 & 5.0 &  912577968 & Antz (1998)                                      & Adventure\\textbar{}Animation\\textbar{}Children\\textbar{}Comedy\\textbar{}Fantasy\\\\\n",
       "\t 71567 &  2338 & 2.0 &  912578016 & I Still Know What You Did Last Summer (1998)     & Horror\\textbar{}Mystery\\textbar{}Thriller                    \\\\\n",
       "\t 71567 &  2384 & 2.0 &  912578173 & Babe: Pig in the City (1998)                     & Children\\textbar{}Comedy                            \\\\\n",
       "\t 16929 & 39412 & 3.0 & 1221160134 & Living 'til the End (2005)                       & Drama                                      \\\\\n",
       "\t 20306 & 63826 & 4.0 & 1228431590 & Splinter (2008)                                  & Action\\textbar{}Horror\\textbar{}Thriller                     \\\\\n",
       "\t 30445 &  8394 & 0.5 & 1200074027 & Hi-Line, The (1999)                              & Drama                                      \\\\\n",
       "\t 32620 & 33140 & 3.5 & 1173562747 & Down and Derby (2005)                            & Children\\textbar{}Comedy                            \\\\\n",
       "\t 40976 & 61913 & 3.0 & 1227767528 & Africa addio (1966)                              & Documentary                                \\\\\n",
       "\t 59269 & 63141 & 2.0 & 1226443318 & Rockin' in the Rockies (1945)                    & Comedy\\textbar{}Musical\\textbar{}Western                     \\\\\n",
       "\t 60713 &  4820 & 2.0 & 1119156754 & Won't Anybody Listen? (2000)                     & Documentary                                \\\\\n",
       "\t 64621 & 39429 & 2.5 & 1201248182 & Confess (2005)                                   & Drama\\textbar{}Thriller                             \\\\\n",
       "\\end{tabular}\n"
      ],
      "text/markdown": [
       "\n",
       "A data.table: 9000055 × 6\n",
       "\n",
       "| userId &lt;int&gt; | movieId &lt;dbl&gt; | rating &lt;dbl&gt; | timestamp &lt;int&gt; | title &lt;chr&gt; | genres &lt;chr&gt; |\n",
       "|---|---|---|---|---|---|\n",
       "| 1 | 122 | 5 | 838985046 | Boomerang (1992)                                             | Comedy|Romance                              |\n",
       "| 1 | 185 | 5 | 838983525 | Net, The (1995)                                              | Action|Crime|Thriller                       |\n",
       "| 1 | 292 | 5 | 838983421 | Outbreak (1995)                                              | Action|Drama|Sci-Fi|Thriller                |\n",
       "| 1 | 316 | 5 | 838983392 | Stargate (1994)                                              | Action|Adventure|Sci-Fi                     |\n",
       "| 1 | 329 | 5 | 838983392 | Star Trek: Generations (1994)                                | Action|Adventure|Drama|Sci-Fi               |\n",
       "| 1 | 355 | 5 | 838984474 | Flintstones, The (1994)                                      | Children|Comedy|Fantasy                     |\n",
       "| 1 | 356 | 5 | 838983653 | Forrest Gump (1994)                                          | Comedy|Drama|Romance|War                    |\n",
       "| 1 | 362 | 5 | 838984885 | Jungle Book, The (1994)                                      | Adventure|Children|Romance                  |\n",
       "| 1 | 364 | 5 | 838983707 | Lion King, The (1994)                                        | Adventure|Animation|Children|Drama|Musical  |\n",
       "| 1 | 370 | 5 | 838984596 | Naked Gun 33 1/3: The Final Insult (1994)                    | Action|Comedy                               |\n",
       "| 1 | 377 | 5 | 838983834 | Speed (1994)                                                 | Action|Romance|Thriller                     |\n",
       "| 1 | 420 | 5 | 838983834 | Beverly Hills Cop III (1994)                                 | Action|Comedy|Crime|Thriller                |\n",
       "| 1 | 466 | 5 | 838984679 | Hot Shots! Part Deux (1993)                                  | Action|Comedy|War                           |\n",
       "| 1 | 520 | 5 | 838984679 | Robin Hood: Men in Tights (1993)                             | Comedy                                      |\n",
       "| 1 | 539 | 5 | 838984068 | Sleepless in Seattle (1993)                                  | Comedy|Drama|Romance                        |\n",
       "| 1 | 588 | 5 | 838983339 | Aladdin (1992)                                               | Adventure|Animation|Children|Comedy|Musical |\n",
       "| 1 | 589 | 5 | 838983778 | Terminator 2: Judgment Day (1991)                            | Action|Sci-Fi                               |\n",
       "| 1 | 594 | 5 | 838984679 | Snow White and the Seven Dwarfs (1937)                       | Animation|Children|Drama|Fantasy|Musical    |\n",
       "| 1 | 616 | 5 | 838984941 | Aristocats, The (1970)                                       | Animation|Children                          |\n",
       "| 2 | 110 | 5 | 868245777 | Braveheart (1995)                                            | Action|Drama|War                            |\n",
       "| 2 | 260 | 5 | 868244562 | Star Wars: Episode IV - A New Hope (a.k.a. Star Wars) (1977) | Action|Adventure|Sci-Fi                     |\n",
       "| 2 | 376 | 3 | 868245920 | River Wild, The (1994)                                       | Action|Thriller                             |\n",
       "| 2 | 539 | 3 | 868246262 | Sleepless in Seattle (1993)                                  | Comedy|Drama|Romance                        |\n",
       "| 2 | 590 | 5 | 868245608 | Dances with Wolves (1990)                                    | Adventure|Drama|Western                     |\n",
       "| 2 | 648 | 2 | 868244699 | Mission: Impossible (1996)                                   | Action|Adventure|Mystery|Thriller           |\n",
       "| 2 | 719 | 3 | 868246191 | Multiplicity (1996)                                          | Comedy                                      |\n",
       "| 2 | 733 | 3 | 868244562 | Rock, The (1996)                                             | Action|Adventure|Thriller                   |\n",
       "| 2 | 736 | 3 | 868244698 | Twister (1996)                                               | Action|Adventure|Romance|Thriller           |\n",
       "| 2 | 780 | 3 | 868244698 | Independence Day (a.k.a. ID4) (1996)                         | Action|Adventure|Sci-Fi|War                 |\n",
       "| 2 | 786 | 3 | 868244562 | Eraser (1996)                                                | Action|Drama|Thriller                       |\n",
       "| ... | ... | ... | ... | ... | ... |\n",
       "| 71567 |  1721 | 4.0 |  912649271 | Titanic (1997)                                   | Drama|Romance                               |\n",
       "| 71567 |  1748 | 3.0 |  912580647 | Dark City (1998)                                 | Adventure|Fantasy|Film-Noir|Sci-Fi|Thriller |\n",
       "| 71567 |  1769 | 3.0 |  912649037 | Replacement Killers, The (1998)                  | Action|Crime|Thriller                       |\n",
       "| 71567 |  1792 | 2.0 |  912649171 | U.S. Marshals (1998)                             | Action|Crime|Thriller                       |\n",
       "| 71567 |  1805 | 4.0 |  912649010 | Wild Things (1998)                               | Crime|Drama|Mystery|Thriller                |\n",
       "| 71567 |  1833 | 3.0 |  912649171 | Mercury Rising (1998)                            | Action|Drama|Thriller                       |\n",
       "| 71567 |  1876 | 3.0 |  912580722 | Deep Impact (1998)                               | Drama|Sci-Fi|Thriller                       |\n",
       "| 71567 |  1909 | 2.0 |  912580688 | X-Files: Fight the Future, The (1998)            | Action|Crime|Mystery|Sci-Fi|Thriller        |\n",
       "| 71567 |  1917 | 4.0 |  912580787 | Armageddon (1998)                                | Action|Romance|Sci-Fi|Thriller              |\n",
       "| 71567 |  1920 | 4.0 |  912578247 | Small Soldiers (1998)                            | Animation|Children|Fantasy|War              |\n",
       "| 71567 |  1982 | 1.0 |  912580553 | Halloween (1978)                                 | Horror                                      |\n",
       "| 71567 |  1983 | 1.0 |  912580553 | Halloween II (1981)                              | Horror                                      |\n",
       "| 71567 |  1984 | 1.0 |  912580553 | Halloween III: Season of the Witch (1982)        | Horror                                      |\n",
       "| 71567 |  1985 | 1.0 |  912580553 | Halloween 4: The Return of Michael Myers (1988)  | Horror                                      |\n",
       "| 71567 |  1986 | 1.0 |  912580553 | Halloween 5: The Revenge of Michael Myers (1989) | Horror                                      |\n",
       "| 71567 |  2012 | 3.0 |  912580722 | Back to the Future Part III (1990)               | Comedy|Sci-Fi|Western                       |\n",
       "| 71567 |  2028 | 5.0 |  912580344 | Saving Private Ryan (1998)                       | Action|Drama|War                            |\n",
       "| 71567 |  2107 | 1.0 |  912580553 | Halloween H20: 20 Years Later (1998)             | Horror|Thriller                             |\n",
       "| 71567 |  2126 | 2.0 |  912649143 | Snake Eyes (1998)                                | Action|Crime|Mystery|Thriller               |\n",
       "| 71567 |  2294 | 5.0 |  912577968 | Antz (1998)                                      | Adventure|Animation|Children|Comedy|Fantasy |\n",
       "| 71567 |  2338 | 2.0 |  912578016 | I Still Know What You Did Last Summer (1998)     | Horror|Mystery|Thriller                     |\n",
       "| 71567 |  2384 | 2.0 |  912578173 | Babe: Pig in the City (1998)                     | Children|Comedy                             |\n",
       "| 16929 | 39412 | 3.0 | 1221160134 | Living 'til the End (2005)                       | Drama                                       |\n",
       "| 20306 | 63826 | 4.0 | 1228431590 | Splinter (2008)                                  | Action|Horror|Thriller                      |\n",
       "| 30445 |  8394 | 0.5 | 1200074027 | Hi-Line, The (1999)                              | Drama                                       |\n",
       "| 32620 | 33140 | 3.5 | 1173562747 | Down and Derby (2005)                            | Children|Comedy                             |\n",
       "| 40976 | 61913 | 3.0 | 1227767528 | Africa addio (1966)                              | Documentary                                 |\n",
       "| 59269 | 63141 | 2.0 | 1226443318 | Rockin' in the Rockies (1945)                    | Comedy|Musical|Western                      |\n",
       "| 60713 |  4820 | 2.0 | 1119156754 | Won't Anybody Listen? (2000)                     | Documentary                                 |\n",
       "| 64621 | 39429 | 2.5 | 1201248182 | Confess (2005)                                   | Drama|Thriller                              |\n",
       "\n"
      ],
      "text/plain": [
       "        userId movieId rating timestamp \n",
       "1       1      122     5      838985046 \n",
       "2       1      185     5      838983525 \n",
       "3       1      292     5      838983421 \n",
       "4       1      316     5      838983392 \n",
       "5       1      329     5      838983392 \n",
       "6       1      355     5      838984474 \n",
       "7       1      356     5      838983653 \n",
       "8       1      362     5      838984885 \n",
       "9       1      364     5      838983707 \n",
       "10      1      370     5      838984596 \n",
       "11      1      377     5      838983834 \n",
       "12      1      420     5      838983834 \n",
       "13      1      466     5      838984679 \n",
       "14      1      520     5      838984679 \n",
       "15      1      539     5      838984068 \n",
       "16      1      588     5      838983339 \n",
       "17      1      589     5      838983778 \n",
       "18      1      594     5      838984679 \n",
       "19      1      616     5      838984941 \n",
       "20      2      110     5      868245777 \n",
       "21      2      260     5      868244562 \n",
       "22      2      376     3      868245920 \n",
       "23      2      539     3      868246262 \n",
       "24      2      590     5      868245608 \n",
       "25      2      648     2      868244699 \n",
       "26      2      719     3      868246191 \n",
       "27      2      733     3      868244562 \n",
       "28      2      736     3      868244698 \n",
       "29      2      780     3      868244698 \n",
       "30      2      786     3      868244562 \n",
       "...     ...    ...     ...    ...       \n",
       "9000026 71567   1721   4.0     912649271\n",
       "9000027 71567   1748   3.0     912580647\n",
       "9000028 71567   1769   3.0     912649037\n",
       "9000029 71567   1792   2.0     912649171\n",
       "9000030 71567   1805   4.0     912649010\n",
       "9000031 71567   1833   3.0     912649171\n",
       "9000032 71567   1876   3.0     912580722\n",
       "9000033 71567   1909   2.0     912580688\n",
       "9000034 71567   1917   4.0     912580787\n",
       "9000035 71567   1920   4.0     912578247\n",
       "9000036 71567   1982   1.0     912580553\n",
       "9000037 71567   1983   1.0     912580553\n",
       "9000038 71567   1984   1.0     912580553\n",
       "9000039 71567   1985   1.0     912580553\n",
       "9000040 71567   1986   1.0     912580553\n",
       "9000041 71567   2012   3.0     912580722\n",
       "9000042 71567   2028   5.0     912580344\n",
       "9000043 71567   2107   1.0     912580553\n",
       "9000044 71567   2126   2.0     912649143\n",
       "9000045 71567   2294   5.0     912577968\n",
       "9000046 71567   2338   2.0     912578016\n",
       "9000047 71567   2384   2.0     912578173\n",
       "9000048 16929  39412   3.0    1221160134\n",
       "9000049 20306  63826   4.0    1228431590\n",
       "9000050 30445   8394   0.5    1200074027\n",
       "9000051 32620  33140   3.5    1173562747\n",
       "9000052 40976  61913   3.0    1227767528\n",
       "9000053 59269  63141   2.0    1226443318\n",
       "9000054 60713   4820   2.0    1119156754\n",
       "9000055 64621  39429   2.5    1201248182\n",
       "        title                                                       \n",
       "1       Boomerang (1992)                                            \n",
       "2       Net, The (1995)                                             \n",
       "3       Outbreak (1995)                                             \n",
       "4       Stargate (1994)                                             \n",
       "5       Star Trek: Generations (1994)                               \n",
       "6       Flintstones, The (1994)                                     \n",
       "7       Forrest Gump (1994)                                         \n",
       "8       Jungle Book, The (1994)                                     \n",
       "9       Lion King, The (1994)                                       \n",
       "10      Naked Gun 33 1/3: The Final Insult (1994)                   \n",
       "11      Speed (1994)                                                \n",
       "12      Beverly Hills Cop III (1994)                                \n",
       "13      Hot Shots! Part Deux (1993)                                 \n",
       "14      Robin Hood: Men in Tights (1993)                            \n",
       "15      Sleepless in Seattle (1993)                                 \n",
       "16      Aladdin (1992)                                              \n",
       "17      Terminator 2: Judgment Day (1991)                           \n",
       "18      Snow White and the Seven Dwarfs (1937)                      \n",
       "19      Aristocats, The (1970)                                      \n",
       "20      Braveheart (1995)                                           \n",
       "21      Star Wars: Episode IV - A New Hope (a.k.a. Star Wars) (1977)\n",
       "22      River Wild, The (1994)                                      \n",
       "23      Sleepless in Seattle (1993)                                 \n",
       "24      Dances with Wolves (1990)                                   \n",
       "25      Mission: Impossible (1996)                                  \n",
       "26      Multiplicity (1996)                                         \n",
       "27      Rock, The (1996)                                            \n",
       "28      Twister (1996)                                              \n",
       "29      Independence Day (a.k.a. ID4) (1996)                        \n",
       "30      Eraser (1996)                                               \n",
       "...     ...                                                         \n",
       "9000026 Titanic (1997)                                              \n",
       "9000027 Dark City (1998)                                            \n",
       "9000028 Replacement Killers, The (1998)                             \n",
       "9000029 U.S. Marshals (1998)                                        \n",
       "9000030 Wild Things (1998)                                          \n",
       "9000031 Mercury Rising (1998)                                       \n",
       "9000032 Deep Impact (1998)                                          \n",
       "9000033 X-Files: Fight the Future, The (1998)                       \n",
       "9000034 Armageddon (1998)                                           \n",
       "9000035 Small Soldiers (1998)                                       \n",
       "9000036 Halloween (1978)                                            \n",
       "9000037 Halloween II (1981)                                         \n",
       "9000038 Halloween III: Season of the Witch (1982)                   \n",
       "9000039 Halloween 4: The Return of Michael Myers (1988)             \n",
       "9000040 Halloween 5: The Revenge of Michael Myers (1989)            \n",
       "9000041 Back to the Future Part III (1990)                          \n",
       "9000042 Saving Private Ryan (1998)                                  \n",
       "9000043 Halloween H20: 20 Years Later (1998)                        \n",
       "9000044 Snake Eyes (1998)                                           \n",
       "9000045 Antz (1998)                                                 \n",
       "9000046 I Still Know What You Did Last Summer (1998)                \n",
       "9000047 Babe: Pig in the City (1998)                                \n",
       "9000048 Living 'til the End (2005)                                  \n",
       "9000049 Splinter (2008)                                             \n",
       "9000050 Hi-Line, The (1999)                                         \n",
       "9000051 Down and Derby (2005)                                       \n",
       "9000052 Africa addio (1966)                                         \n",
       "9000053 Rockin' in the Rockies (1945)                               \n",
       "9000054 Won't Anybody Listen? (2000)                                \n",
       "9000055 Confess (2005)                                              \n",
       "        genres                                     \n",
       "1       Comedy|Romance                             \n",
       "2       Action|Crime|Thriller                      \n",
       "3       Action|Drama|Sci-Fi|Thriller               \n",
       "4       Action|Adventure|Sci-Fi                    \n",
       "5       Action|Adventure|Drama|Sci-Fi              \n",
       "6       Children|Comedy|Fantasy                    \n",
       "7       Comedy|Drama|Romance|War                   \n",
       "8       Adventure|Children|Romance                 \n",
       "9       Adventure|Animation|Children|Drama|Musical \n",
       "10      Action|Comedy                              \n",
       "11      Action|Romance|Thriller                    \n",
       "12      Action|Comedy|Crime|Thriller               \n",
       "13      Action|Comedy|War                          \n",
       "14      Comedy                                     \n",
       "15      Comedy|Drama|Romance                       \n",
       "16      Adventure|Animation|Children|Comedy|Musical\n",
       "17      Action|Sci-Fi                              \n",
       "18      Animation|Children|Drama|Fantasy|Musical   \n",
       "19      Animation|Children                         \n",
       "20      Action|Drama|War                           \n",
       "21      Action|Adventure|Sci-Fi                    \n",
       "22      Action|Thriller                            \n",
       "23      Comedy|Drama|Romance                       \n",
       "24      Adventure|Drama|Western                    \n",
       "25      Action|Adventure|Mystery|Thriller          \n",
       "26      Comedy                                     \n",
       "27      Action|Adventure|Thriller                  \n",
       "28      Action|Adventure|Romance|Thriller          \n",
       "29      Action|Adventure|Sci-Fi|War                \n",
       "30      Action|Drama|Thriller                      \n",
       "...     ...                                        \n",
       "9000026 Drama|Romance                              \n",
       "9000027 Adventure|Fantasy|Film-Noir|Sci-Fi|Thriller\n",
       "9000028 Action|Crime|Thriller                      \n",
       "9000029 Action|Crime|Thriller                      \n",
       "9000030 Crime|Drama|Mystery|Thriller               \n",
       "9000031 Action|Drama|Thriller                      \n",
       "9000032 Drama|Sci-Fi|Thriller                      \n",
       "9000033 Action|Crime|Mystery|Sci-Fi|Thriller       \n",
       "9000034 Action|Romance|Sci-Fi|Thriller             \n",
       "9000035 Animation|Children|Fantasy|War             \n",
       "9000036 Horror                                     \n",
       "9000037 Horror                                     \n",
       "9000038 Horror                                     \n",
       "9000039 Horror                                     \n",
       "9000040 Horror                                     \n",
       "9000041 Comedy|Sci-Fi|Western                      \n",
       "9000042 Action|Drama|War                           \n",
       "9000043 Horror|Thriller                            \n",
       "9000044 Action|Crime|Mystery|Thriller              \n",
       "9000045 Adventure|Animation|Children|Comedy|Fantasy\n",
       "9000046 Horror|Mystery|Thriller                    \n",
       "9000047 Children|Comedy                            \n",
       "9000048 Drama                                      \n",
       "9000049 Action|Horror|Thriller                     \n",
       "9000050 Drama                                      \n",
       "9000051 Children|Comedy                            \n",
       "9000052 Documentary                                \n",
       "9000053 Comedy|Musical|Western                     \n",
       "9000054 Documentary                                \n",
       "9000055 Drama|Thriller                             "
      ]
     },
     "metadata": {},
     "output_type": "display_data"
    }
   ],
   "source": [
    "edx"
   ]
  },
  {
   "cell_type": "code",
   "execution_count": 8,
   "id": "64aa9865",
   "metadata": {},
   "outputs": [
    {
     "data": {
      "text/html": [
       "9000055"
      ],
      "text/latex": [
       "9000055"
      ],
      "text/markdown": [
       "9000055"
      ],
      "text/plain": [
       "[1] 9000055"
      ]
     },
     "metadata": {},
     "output_type": "display_data"
    },
    {
     "data": {
      "text/html": [
       "69878"
      ],
      "text/latex": [
       "69878"
      ],
      "text/markdown": [
       "69878"
      ],
      "text/plain": [
       "[1] 69878"
      ]
     },
     "metadata": {},
     "output_type": "display_data"
    },
    {
     "data": {
      "text/html": [
       "10677"
      ],
      "text/latex": [
       "10677"
      ],
      "text/markdown": [
       "10677"
      ],
      "text/plain": [
       "[1] 10677"
      ]
     },
     "metadata": {},
     "output_type": "display_data"
    }
   ],
   "source": [
    "length(edx$rating)\n",
    "length(unique(edx$userId))\n",
    "length(unique(edx$movieId))"
   ]
  },
  {
   "cell_type": "markdown",
   "id": "cf34f809",
   "metadata": {},
   "source": [
    "##### Pour ces quelques 9 Millions de notes, elles concernent 10677 films uniques et 69 878 utilisateurs uniques."
   ]
  },
  {
   "cell_type": "markdown",
   "id": "ccc3138b",
   "metadata": {},
   "source": [
    "## Répartition des notes"
   ]
  },
  {
   "cell_type": "code",
   "execution_count": 9,
   "id": "7d3e6ba5",
   "metadata": {},
   "outputs": [
    {
     "data": {
      "image/png": "[encoded data removed]",
      "text/plain": [
       "plot without title"
      ]
     },
     "metadata": {
      "image/png": {
       "height": 480,
       "width": 960
      }
     },
     "output_type": "display_data"
    }
   ],
   "source": [
    "notes <- edx %>% \n",
    "  group_by(rating) %>% \n",
    "  summarize(num_ratings = n()) %>% \n",
    "  arrange(desc(num_ratings)) # \n",
    "options(repr.plot.width=16, repr.plot.height=8)\n",
    "h <- notes %>%\n",
    "  ggplot(aes(rating, num_ratings, color = rating)) +\n",
    "  geom_point(aes(size = num_ratings)) +\n",
    "  scale_color_gradientn(colours = c(\"red\", \"orange\",\"yellow\",\"green\",\"darkgreen\")) +\n",
    "  scale_size_continuous(limits = c(0, 3e+06)) +\n",
    "  xlim(0,5) +\n",
    "  theme(plot.title = element_text(hjust = 0.5))+\n",
    "  labs(x = \"Notes\", y = \"Nombre de notes\", title = \"Distribution des notes\", color = \"Notes\", size = \"Distribution des notes\")\n",
    "\n",
    "h + theme(axis.text=element_text(size=16, face='bold'),\n",
    "        axis.title=element_text(size=18,face=\"bold\"))"
   ]
  },
  {
   "cell_type": "markdown",
   "id": "6b8ae93d",
   "metadata": {},
   "source": [
    "##### On observe un comportement récurent ; les notes arrondies sont largement majoritaires par rapport aux notes décimales."
   ]
  },
  {
   "cell_type": "code",
   "execution_count": 10,
   "id": "c04cb536",
   "metadata": {},
   "outputs": [
    {
     "name": "stderr",
     "output_type": "stream",
     "text": [
      "`stat_bin()` using `bins = 30`. Pick better value with `binwidth`.\n",
      "\n"
     ]
    },
    {
     "data": {
      "image/png": "[encoded data removed]",
      "text/plain": [
       "plot without title"
      ]
     },
     "metadata": {
      "image/png": {
       "height": 480,
       "width": 960
      }
     },
     "output_type": "display_data"
    }
   ],
   "source": [
    "edx %>% group_by(movieId) %>%\n",
    "  summarise(n=n()) %>%\n",
    "  ggplot(aes(n)) +\n",
    "    geom_histogram(color = \"lightblue\") +\n",
    "    scale_x_log10() + \n",
    "    ggtitle(\"Distribution du nombre de notes par films\") +\n",
    "    theme(plot.title = element_text(hjust = 0.5,size=16, face='bold'))+\n",
    "    xlab(\"Nombre de notes\") +\n",
    "    ylab(\"Nombre de films\")"
   ]
  },
  {
   "cell_type": "markdown",
   "id": "6a315659",
   "metadata": {},
   "source": [
    "###### Un nombre non-négligeable de films ont moins de 10 notes, la grande majorité en ont entre 10 et 1000. Certains blockbusters dépassent 30000 notes reçues."
   ]
  },
  {
   "cell_type": "markdown",
   "id": "8441fb10",
   "metadata": {},
   "source": [
    "##### Si on s'interesse au top 10 des films les plus populaires en terme de notes reçues ;"
   ]
  },
  {
   "cell_type": "code",
   "execution_count": 11,
   "id": "0c5f117f",
   "metadata": {},
   "outputs": [
    {
     "name": "stdout",
     "output_type": "stream",
     "text": [
      "[1] \"Pulp Fiction (1994)\"\n",
      "[1] \"Forrest Gump (1994)\"\n",
      "[1] \"Silence of the Lambs, The (1991)\"\n",
      "[1] \"Jurassic Park (1993)\"\n",
      "[1] \"Shawshank Redemption, The (1994)\"\n",
      "[1] \"Braveheart (1995)\"\n",
      "[1] \"Fugitive, The (1993)\"\n",
      "[1] \"Terminator 2: Judgment Day (1991)\"\n",
      "[1] \"Star Wars: Episode IV - A New Hope (a.k.a. Star Wars) (1977)\"\n",
      "[1] \"Apollo 13 (1995)\"\n"
     ]
    }
   ],
   "source": [
    "topfilm <- edx %>% group_by(movieId) %>%\n",
    "  summarise(n=n())\n",
    "\n",
    "topfilm <- as.data.frame(topfilm)\n",
    "topfilm <- topfilm[order(-topfilm$n),]\n",
    "top10 <- topfilm$movieId[1:10]\n",
    "\n",
    "for (i in 1:length(top10)){\n",
    "  result <- filter(edx, movieId == top10[i])\n",
    "  print(result$title[1])\n",
    "}"
   ]
  },
  {
   "cell_type": "markdown",
   "id": "d77e01e9",
   "metadata": {},
   "source": [
    "### Popularité des Genres"
   ]
  },
  {
   "cell_type": "code",
   "execution_count": 12,
   "id": "c7a7e82b",
   "metadata": {},
   "outputs": [],
   "source": [
    "graph_genre <- edx %>%\n",
    "  separate_rows(genres, sep = \"\\\\|\")\n",
    "\n",
    "graph_genre2 <- graph_genre %>%\n",
    "  group_by(genres) %>%\n",
    "  summarize(num_ratings = n(), avg_rating = mean(rating)) %>%\n",
    "  arrange(desc(num_ratings))"
   ]
  },
  {
   "cell_type": "code",
   "execution_count": 13,
   "id": "268c5101",
   "metadata": {},
   "outputs": [
    {
     "data": {
      "image/png": "[encoded data removed]",
      "text/plain": [
       "plot without title"
      ]
     },
     "metadata": {
      "image/png": {
       "height": 480,
       "width": 960
      }
     },
     "output_type": "display_data"
    }
   ],
   "source": [
    "p <- graph_genre2 %>%\n",
    "  ggplot(aes(genres, avg_rating)) +\n",
    "  geom_point(aes(size = num_ratings)) +\n",
    "  scale_size_continuous(limits = c(0, 7e+06)) +\n",
    "  theme(plot.title = element_text(hjust = 0.5, size=16, face='bold'))+\n",
    "  labs(x = \"Genre\", y = \"Note Moyenne\", title = \"Note moyenne par Genre\", size = \"Nombre de notes\") +\n",
    "  theme(axis.text.x = element_text(angle = 90))\n",
    "\n",
    "p + theme(axis.text=element_text(size=16, face='bold'),\n",
    "        axis.title=element_text(size=18,face=\"bold\"))"
   ]
  },
  {
   "cell_type": "markdown",
   "id": "9dd05abf",
   "metadata": {},
   "source": [
    "##### Les films d'horreurs sont les moins populaires, le genre Film-Noir est le plus populaire mais est un des genres ayant reçu le moins de notes.\n",
    "##### Le détail est visible ci-dessous."
   ]
  },
  {
   "cell_type": "code",
   "execution_count": 14,
   "id": "c3b20127",
   "metadata": {},
   "outputs": [
    {
     "data": {
      "text/html": [
       "<table class=\"dataframe\">\n",
       "<caption>A tibble: 20 × 3</caption>\n",
       "<thead>\n",
       "\t<tr><th scope=col>genres</th><th scope=col>num_ratings</th><th scope=col>avg_rating</th></tr>\n",
       "\t<tr><th scope=col>&lt;chr&gt;</th><th scope=col>&lt;int&gt;</th><th scope=col>&lt;dbl&gt;</th></tr>\n",
       "</thead>\n",
       "<tbody>\n",
       "\t<tr><td>Drama             </td><td>3910127</td><td>3.673131</td></tr>\n",
       "\t<tr><td>Comedy            </td><td>3540930</td><td>3.436908</td></tr>\n",
       "\t<tr><td>Action            </td><td>2560545</td><td>3.421405</td></tr>\n",
       "\t<tr><td>Thriller          </td><td>2325899</td><td>3.507676</td></tr>\n",
       "\t<tr><td>Adventure         </td><td>1908892</td><td>3.493544</td></tr>\n",
       "\t<tr><td>Romance           </td><td>1712100</td><td>3.553813</td></tr>\n",
       "\t<tr><td>Sci-Fi            </td><td>1341183</td><td>3.395743</td></tr>\n",
       "\t<tr><td>Crime             </td><td>1327715</td><td>3.665925</td></tr>\n",
       "\t<tr><td>Fantasy           </td><td> 925637</td><td>3.501946</td></tr>\n",
       "\t<tr><td>Children          </td><td> 737994</td><td>3.418715</td></tr>\n",
       "\t<tr><td>Horror            </td><td> 691485</td><td>3.269815</td></tr>\n",
       "\t<tr><td>Mystery           </td><td> 568332</td><td>3.677001</td></tr>\n",
       "\t<tr><td>War               </td><td> 511147</td><td>3.780813</td></tr>\n",
       "\t<tr><td>Animation         </td><td> 467168</td><td>3.600644</td></tr>\n",
       "\t<tr><td>Musical           </td><td> 433080</td><td>3.563305</td></tr>\n",
       "\t<tr><td>Western           </td><td> 189394</td><td>3.555918</td></tr>\n",
       "\t<tr><td>Film-Noir         </td><td> 118541</td><td>4.011625</td></tr>\n",
       "\t<tr><td>Documentary       </td><td>  93066</td><td>3.783487</td></tr>\n",
       "\t<tr><td>IMAX              </td><td>   8181</td><td>3.767693</td></tr>\n",
       "\t<tr><td>(no genres listed)</td><td>      7</td><td>3.642857</td></tr>\n",
       "</tbody>\n",
       "</table>\n"
      ],
      "text/latex": [
       "A tibble: 20 × 3\n",
       "\\begin{tabular}{lll}\n",
       " genres & num\\_ratings & avg\\_rating\\\\\n",
       " <chr> & <int> & <dbl>\\\\\n",
       "\\hline\n",
       "\t Drama              & 3910127 & 3.673131\\\\\n",
       "\t Comedy             & 3540930 & 3.436908\\\\\n",
       "\t Action             & 2560545 & 3.421405\\\\\n",
       "\t Thriller           & 2325899 & 3.507676\\\\\n",
       "\t Adventure          & 1908892 & 3.493544\\\\\n",
       "\t Romance            & 1712100 & 3.553813\\\\\n",
       "\t Sci-Fi             & 1341183 & 3.395743\\\\\n",
       "\t Crime              & 1327715 & 3.665925\\\\\n",
       "\t Fantasy            &  925637 & 3.501946\\\\\n",
       "\t Children           &  737994 & 3.418715\\\\\n",
       "\t Horror             &  691485 & 3.269815\\\\\n",
       "\t Mystery            &  568332 & 3.677001\\\\\n",
       "\t War                &  511147 & 3.780813\\\\\n",
       "\t Animation          &  467168 & 3.600644\\\\\n",
       "\t Musical            &  433080 & 3.563305\\\\\n",
       "\t Western            &  189394 & 3.555918\\\\\n",
       "\t Film-Noir          &  118541 & 4.011625\\\\\n",
       "\t Documentary        &   93066 & 3.783487\\\\\n",
       "\t IMAX               &    8181 & 3.767693\\\\\n",
       "\t (no genres listed) &       7 & 3.642857\\\\\n",
       "\\end{tabular}\n"
      ],
      "text/markdown": [
       "\n",
       "A tibble: 20 × 3\n",
       "\n",
       "| genres &lt;chr&gt; | num_ratings &lt;int&gt; | avg_rating &lt;dbl&gt; |\n",
       "|---|---|---|\n",
       "| Drama              | 3910127 | 3.673131 |\n",
       "| Comedy             | 3540930 | 3.436908 |\n",
       "| Action             | 2560545 | 3.421405 |\n",
       "| Thriller           | 2325899 | 3.507676 |\n",
       "| Adventure          | 1908892 | 3.493544 |\n",
       "| Romance            | 1712100 | 3.553813 |\n",
       "| Sci-Fi             | 1341183 | 3.395743 |\n",
       "| Crime              | 1327715 | 3.665925 |\n",
       "| Fantasy            |  925637 | 3.501946 |\n",
       "| Children           |  737994 | 3.418715 |\n",
       "| Horror             |  691485 | 3.269815 |\n",
       "| Mystery            |  568332 | 3.677001 |\n",
       "| War                |  511147 | 3.780813 |\n",
       "| Animation          |  467168 | 3.600644 |\n",
       "| Musical            |  433080 | 3.563305 |\n",
       "| Western            |  189394 | 3.555918 |\n",
       "| Film-Noir          |  118541 | 4.011625 |\n",
       "| Documentary        |   93066 | 3.783487 |\n",
       "| IMAX               |    8181 | 3.767693 |\n",
       "| (no genres listed) |       7 | 3.642857 |\n",
       "\n"
      ],
      "text/plain": [
       "   genres             num_ratings avg_rating\n",
       "1  Drama              3910127     3.673131  \n",
       "2  Comedy             3540930     3.436908  \n",
       "3  Action             2560545     3.421405  \n",
       "4  Thriller           2325899     3.507676  \n",
       "5  Adventure          1908892     3.493544  \n",
       "6  Romance            1712100     3.553813  \n",
       "7  Sci-Fi             1341183     3.395743  \n",
       "8  Crime              1327715     3.665925  \n",
       "9  Fantasy             925637     3.501946  \n",
       "10 Children            737994     3.418715  \n",
       "11 Horror              691485     3.269815  \n",
       "12 Mystery             568332     3.677001  \n",
       "13 War                 511147     3.780813  \n",
       "14 Animation           467168     3.600644  \n",
       "15 Musical             433080     3.563305  \n",
       "16 Western             189394     3.555918  \n",
       "17 Film-Noir           118541     4.011625  \n",
       "18 Documentary          93066     3.783487  \n",
       "19 IMAX                  8181     3.767693  \n",
       "20 (no genres listed)       7     3.642857  "
      ]
     },
     "metadata": {},
     "output_type": "display_data"
    }
   ],
   "source": [
    "graph_genre2"
   ]
  },
  {
   "cell_type": "markdown",
   "id": "8dce75de",
   "metadata": {},
   "source": [
    "### L'effet de l'ancienneté"
   ]
  },
  {
   "cell_type": "code",
   "execution_count": 15,
   "id": "acc822d0",
   "metadata": {},
   "outputs": [],
   "source": [
    "graph_year <- edx %>%\n",
    "  mutate(year = substring(title, nchar(title) - 6)) %>% \n",
    "  mutate(year = as.numeric(substring(year, regexpr(\"\\\\(\", year) + 1, regexpr(\"\\\\)\", year) - 1))) "
   ]
  },
  {
   "cell_type": "code",
   "execution_count": 16,
   "id": "07cabdf8",
   "metadata": {},
   "outputs": [
    {
     "data": {
      "image/png": "[encoded data removed]",
      "text/plain": [
       "plot without title"
      ]
     },
     "metadata": {
      "image/png": {
       "height": 480,
       "width": 960
      }
     },
     "output_type": "display_data"
    }
   ],
   "source": [
    "graph_year2 <- graph_year %>%\n",
    "  group_by(year) %>% \n",
    "  summarize(num_ratings = n(), avg_rating = mean(rating)) %>% \n",
    "  arrange(desc(num_ratings))\n",
    "\n",
    "graph_year2 %>%\n",
    "  ggplot(aes(year, avg_rating, size = num_ratings)) +\n",
    "  geom_point(aes(size = num_ratings)) +\n",
    "  scale_size_continuous(limits = c(0, 6e+06)) +\n",
    "  labs(x = \"Année\", y = \"Note moyenne\", size = \"Nombre de notes\")"
   ]
  },
  {
   "cell_type": "markdown",
   "id": "e92a7197",
   "metadata": {},
   "source": [
    "##### Si les films les plus récents ont très clairement reçus beaucoup plus de notes, on observe assez nettement une meilleure moyenne pour les films plus anciens."
   ]
  },
  {
   "cell_type": "markdown",
   "id": "bd5f246c",
   "metadata": {},
   "source": [
    "# Partie 3 : Modèle prédictif\n",
    "### L'objectif est d'obtenir un Root Mean Square Error le plus bas possible sur le set de validation.\n",
    "##### Le barème lié au RMSE est le suivant; \n",
    "\n",
    "##### 0 points: Aucun RMSE / abandon\n",
    "##### 5 points: RMSE >= 0.90000 ou erreur de manipulation ayant entraîné l'entrainement du modèle sur set de validation.\n",
    "##### 10 points: 0.86550 <= RMSE <= 0.89999\n",
    "##### 15 points: 0.86500 <= RMSE <= 0.86549\n",
    "##### 20 points: 0.86490 <= RMSE <= 0.86499\n",
    "##### 25 points: RMSE < 0.86490"
   ]
  },
  {
   "cell_type": "code",
   "execution_count": 17,
   "id": "5bc712a4",
   "metadata": {},
   "outputs": [],
   "source": [
    "require(recosystem) ;"
   ]
  },
  {
   "cell_type": "code",
   "execution_count": 25,
   "id": "a7d6808b",
   "metadata": {},
   "outputs": [],
   "source": [
    "training <- edx %>% select(movieId, userId, rating)\n",
    "validation <- validation %>% select(movieId, userId, rating)\n",
    "\n",
    "training <- as.matrix(training)\n",
    "validation <- as.matrix(validation)"
   ]
  },
  {
   "cell_type": "code",
   "execution_count": 18,
   "id": "9eaa673c",
   "metadata": {},
   "outputs": [
    {
     "data": {
      "text/html": [
       "<table class=\"dataframe\">\n",
       "<caption>A matrix: 6 × 3 of type dbl</caption>\n",
       "<thead>\n",
       "\t<tr><th scope=col>movieId</th><th scope=col>userId</th><th scope=col>rating</th></tr>\n",
       "</thead>\n",
       "<tbody>\n",
       "\t<tr><td>122</td><td>1</td><td>5</td></tr>\n",
       "\t<tr><td>185</td><td>1</td><td>5</td></tr>\n",
       "\t<tr><td>292</td><td>1</td><td>5</td></tr>\n",
       "\t<tr><td>316</td><td>1</td><td>5</td></tr>\n",
       "\t<tr><td>329</td><td>1</td><td>5</td></tr>\n",
       "\t<tr><td>355</td><td>1</td><td>5</td></tr>\n",
       "</tbody>\n",
       "</table>\n"
      ],
      "text/latex": [
       "A matrix: 6 × 3 of type dbl\n",
       "\\begin{tabular}{lll}\n",
       " movieId & userId & rating\\\\\n",
       "\\hline\n",
       "\t 122 & 1 & 5\\\\\n",
       "\t 185 & 1 & 5\\\\\n",
       "\t 292 & 1 & 5\\\\\n",
       "\t 316 & 1 & 5\\\\\n",
       "\t 329 & 1 & 5\\\\\n",
       "\t 355 & 1 & 5\\\\\n",
       "\\end{tabular}\n"
      ],
      "text/markdown": [
       "\n",
       "A matrix: 6 × 3 of type dbl\n",
       "\n",
       "| movieId | userId | rating |\n",
       "|---|---|---|\n",
       "| 122 | 1 | 5 |\n",
       "| 185 | 1 | 5 |\n",
       "| 292 | 1 | 5 |\n",
       "| 316 | 1 | 5 |\n",
       "| 329 | 1 | 5 |\n",
       "| 355 | 1 | 5 |\n",
       "\n"
      ],
      "text/plain": [
       "     movieId userId rating\n",
       "[1,] 122     1      5     \n",
       "[2,] 185     1      5     \n",
       "[3,] 292     1      5     \n",
       "[4,] 316     1      5     \n",
       "[5,] 329     1      5     \n",
       "[6,] 355     1      5     "
      ]
     },
     "metadata": {},
     "output_type": "display_data"
    },
    {
     "data": {
      "text/html": [
       "<table class=\"dataframe\">\n",
       "<caption>A matrix: 6 × 3 of type dbl</caption>\n",
       "<thead>\n",
       "\t<tr><th scope=col>movieId</th><th scope=col>userId</th><th scope=col>rating</th></tr>\n",
       "</thead>\n",
       "<tbody>\n",
       "\t<tr><td> 231</td><td>1</td><td>5</td></tr>\n",
       "\t<tr><td> 480</td><td>1</td><td>5</td></tr>\n",
       "\t<tr><td> 586</td><td>1</td><td>5</td></tr>\n",
       "\t<tr><td> 151</td><td>2</td><td>3</td></tr>\n",
       "\t<tr><td> 858</td><td>2</td><td>2</td></tr>\n",
       "\t<tr><td>1544</td><td>2</td><td>3</td></tr>\n",
       "</tbody>\n",
       "</table>\n"
      ],
      "text/latex": [
       "A matrix: 6 × 3 of type dbl\n",
       "\\begin{tabular}{lll}\n",
       " movieId & userId & rating\\\\\n",
       "\\hline\n",
       "\t  231 & 1 & 5\\\\\n",
       "\t  480 & 1 & 5\\\\\n",
       "\t  586 & 1 & 5\\\\\n",
       "\t  151 & 2 & 3\\\\\n",
       "\t  858 & 2 & 2\\\\\n",
       "\t 1544 & 2 & 3\\\\\n",
       "\\end{tabular}\n"
      ],
      "text/markdown": [
       "\n",
       "A matrix: 6 × 3 of type dbl\n",
       "\n",
       "| movieId | userId | rating |\n",
       "|---|---|---|\n",
       "|  231 | 1 | 5 |\n",
       "|  480 | 1 | 5 |\n",
       "|  586 | 1 | 5 |\n",
       "|  151 | 2 | 3 |\n",
       "|  858 | 2 | 2 |\n",
       "| 1544 | 2 | 3 |\n",
       "\n"
      ],
      "text/plain": [
       "     movieId userId rating\n",
       "[1,]  231    1      5     \n",
       "[2,]  480    1      5     \n",
       "[3,]  586    1      5     \n",
       "[4,]  151    2      3     \n",
       "[5,]  858    2      2     \n",
       "[6,] 1544    2      3     "
      ]
     },
     "metadata": {},
     "output_type": "display_data"
    }
   ],
   "source": [
    "head(training)\n",
    "head(validation)"
   ]
  },
  {
   "cell_type": "code",
   "execution_count": 19,
   "id": "7a00280f",
   "metadata": {},
   "outputs": [],
   "source": [
    "write.table(training, file = \"entrainement.txt\", sep = \" \", row.names = FALSE, \n",
    "            col.names = FALSE)\n",
    "\n",
    "write.table(validation, file = \"validation.txt\", sep = \" \", \n",
    "            row.names = FALSE, col.names = FALSE)"
   ]
  },
  {
   "cell_type": "code",
   "execution_count": 20,
   "id": "69df628d",
   "metadata": {},
   "outputs": [
    {
     "data": {
      "text/plain": [
       "An object of class \"DataSource\"\n",
       "Slot \"source\":\n",
       "[1] \"trainingset.txt\"\n",
       "\n",
       "Slot \"index1\":\n",
       "[1] FALSE\n",
       "\n",
       "Slot \"type\":\n",
       "[1] \"file\"\n"
      ]
     },
     "metadata": {},
     "output_type": "display_data"
    }
   ],
   "source": [
    "training_dataset <- data_file(\"entrainement.txt\")\n",
    "validation_dataset <- data_file(\"validation.txt\")\n",
    "model_object = Reco()\n",
    "\n",
    "training_dataset"
   ]
  },
  {
   "cell_type": "code",
   "execution_count": 21,
   "id": "7a046f66",
   "metadata": {},
   "outputs": [],
   "source": [
    "#on essaye 2 learning rate differents (lr) avec 2 nombres de facteurs latents différents (dim)\n",
    "\n",
    "parametres = model_object$tune(\n",
    "  training_dataset,\n",
    "  opts = model_object$tune(training_dataset, \n",
    "                           opts = list(dim = c(10,15), \n",
    "                                       lrate = c(0.1,0.15), \n",
    "                                       costp_l1 = 0, \n",
    "                                       costq_l1 = 0, \n",
    "                                       nthread = 8,\n",
    "                                       niter = 10)))\n"
   ]
  },
  {
   "cell_type": "markdown",
   "id": "1978a107",
   "metadata": {},
   "source": [
    "##### On prend les paramètres optimaux qui minimisent l'erreur de validation."
   ]
  },
  {
   "cell_type": "code",
   "execution_count": 22,
   "id": "a811934c",
   "metadata": {},
   "outputs": [
    {
     "name": "stdout",
     "output_type": "stream",
     "text": [
      "iter      tr_rmse          obj\n",
      "   0       0.9680   1.1910e+07\n",
      "   1       0.8755   9.9198e+06\n",
      "   2       0.8428   9.2230e+06\n",
      "   3       0.8208   8.8006e+06\n",
      "   4       0.8059   8.5245e+06\n",
      "   5       0.7957   8.3370e+06\n",
      "   6       0.7876   8.1973e+06\n",
      "   7       0.7808   8.0894e+06\n",
      "   8       0.7750   7.9978e+06\n",
      "   9       0.7699   7.9248e+06\n",
      "  10       0.7655   7.8616e+06\n",
      "  11       0.7617   7.8081e+06\n",
      "  12       0.7584   7.7619e+06\n",
      "  13       0.7556   7.7216e+06\n",
      "  14       0.7531   7.6870e+06\n",
      "  15       0.7508   7.6575e+06\n",
      "  16       0.7488   7.6309e+06\n",
      "  17       0.7469   7.6071e+06\n",
      "  18       0.7453   7.5848e+06\n",
      "  19       0.7437   7.5653e+06\n",
      "prediction output generated at C:\\Users\\Simon\\AppData\\Local\\Temp\\RtmpozWwfJ\\file145c21bc7f9f\n"
     ]
    }
   ],
   "source": [
    "model_object$train(training_dataset, opts = parametres$min)\n",
    "\n",
    "stockage_prediction = tempfile()\n",
    "\n",
    "model_object$predict(validation_dataset, out_file(stockage_prediction))\n",
    "\n",
    "predicted_ratings <- scan(stockage_prediction)"
   ]
  },
  {
   "cell_type": "markdown",
   "id": "73fa9720",
   "metadata": {},
   "source": [
    "##### Le RMSE minimal sur set d'entrainement est proche de 0.74, il faut maintenant observer le RMSE sur set de validation"
   ]
  },
  {
   "cell_type": "markdown",
   "id": "b3f87993",
   "metadata": {},
   "source": [
    "##### On écrit maintenant une petite fonction que calcul le RMSE, et on observe le résultat final"
   ]
  },
  {
   "cell_type": "code",
   "execution_count": 23,
   "id": "39b00e43",
   "metadata": {},
   "outputs": [],
   "source": [
    "RMSE <- function(vraies_notes, notes_predites) {\n",
    "  sqrt(mean((vraies_notes - notes_predites)^2))\n",
    "}"
   ]
  },
  {
   "cell_type": "code",
   "execution_count": 24,
   "id": "280e798f",
   "metadata": {},
   "outputs": [
    {
     "name": "stdout",
     "output_type": "stream",
     "text": [
      "Le RMSE final est de 0.7879949"
     ]
    }
   ],
   "source": [
    "cat(\"Le RMSE final est de\", RMSE(validation[,3], predicted_ratings))"
   ]
  },
  {
   "cell_type": "markdown",
   "id": "fbfac603",
   "metadata": {},
   "source": [
    "##### On est largement en dessous des 0.86490 nécessaire pour valider le projet final.\n",
    "##### Il est évidemment possible de continuer à explorer d'autres pistes pour continuer à baisser ce RMSE, notamment en essayant d'inclure le genre des films et les années de sorties."
   ]
  }
 ],
 "metadata": {
  "kernelspec": {
   "display_name": "R",
   "language": "R",
   "name": "ir"
  },
  "language_info": {
   "codemirror_mode": "r",
   "file_extension": ".r",
   "mimetype": "text/x-r-source",
   "name": "R",
   "pygments_lexer": "r",
   "version": "4.1.0"
  }
 },
 "nbformat": 4,
 "nbformat_minor": 5
}
